{
 "cells": [
  {
   "cell_type": "code",
   "execution_count": 4,
   "metadata": {},
   "outputs": [
    {
     "name": "stdout",
     "output_type": "stream",
     "text": [
      "Você trabalhou por 40.0 horas.\n",
      "O valor da hora trabalhada é de R$ 50.0\n",
      "O pagamento que deve ser recebido é de: R$ 2000.0\n"
     ]
    }
   ],
   "source": [
    "# Faça um Programa que pergunte quanto você ganha por hora e o número de horas trabalhadas no mês.\n",
    "# Calcule e mostre o total do seu salário no referido mês.\n",
    "\n",
    "valor_hora = float(input(\"Digite o valor ganho por hora de trabalho: \"))\n",
    "horas_trabalhadas = float(input(\"Digite o valor de horas trabalhadas neste mês: \"))\n",
    "pagamento = valor_hora * horas_trabalhadas\n",
    "\n",
    "print(\"Você trabalhou por\", horas_trabalhadas ,\"horas.\")\n",
    "print(\"O valor da hora trabalhada é de R$\", valor_hora)\n",
    "print(\"O pagamento que deve ser recebido é de: R$\", pagamento)"
   ]
  },
  {
   "cell_type": "code",
   "execution_count": 26,
   "metadata": {},
   "outputs": [
    {
     "name": "stdout",
     "output_type": "stream",
     "text": [
      "peso ideal: 54.039\n"
     ]
    }
   ],
   "source": [
    "# Tendo como dado de entrada a altura (h) de uma pessoa, construa um algoritmo que calcule seu peso ideal, utilizando as seguintes fórmulas:\n",
    "# Para homens: (72.7*h) - 58\n",
    "# Para mulheres: (62.1*h) - 44.7\n",
    "\n",
    "sexo = int(input('escolha: 1- Sexo Masculino / 2- Sexo Feminino: '))\n",
    "h = float(input('informe sua altura:'))\n",
    "\n",
    "if sexo == 1:\n",
    "    peso_ideal = (72.7*h) - 58\n",
    "else:\n",
    "    peso_ideal = (62.1*h) - 44.7\n",
    "\n",
    "print(\"peso ideal:\", peso_ideal)"
   ]
  },
  {
   "cell_type": "code",
   "execution_count": 30,
   "metadata": {},
   "outputs": [
    {
     "name": "stdout",
     "output_type": "stream",
     "text": [
      "salario_bruto: 3000.0\n",
      "ir: 330.0\n",
      "inss: 240.0\n",
      "sindicato: 150.0\n",
      "salario_liquido: 2280.0\n"
     ]
    }
   ],
   "source": [
    "# Faça um Programa que pergunte quanto você ganha por hora e o número de horas trabalhadas no mês.\n",
    "# Calcule e mostre o total do seu salário no referido mês, sabendo-se que são descontados\n",
    "# 11% para o Imposto de Renda, 8% para o INSS e 5% para o sindicato, faça um programa que nos dê:\n",
    "            # salário bruto.\n",
    "            # quanto pagou ao INSS.\n",
    "            # quanto pagou ao sindicato.\n",
    "            # o salário líquido.\n",
    "            # calcule os descontos e o salário líquido, conforme a tabela abaixo:\n",
    "                # + Salário Bruto : R$ -IR (11%) : R$\n",
    "                # - INSS (8%) : R$\n",
    "                # - Sindicato ( 5%) : R$\n",
    "                # = Salário Liquido : R$\n",
    "# Obs.: Salário Bruto - Descontos = Salário Líquido.\n",
    "\n",
    "valor_hora = float(input(\"digite o valor ganho por hora de trabalho: \"))\n",
    "horas_trabalhadas = float(input(\"digite o valor de horas trabalhadas neste mês: \"))\n",
    "\n",
    "salario_bruto = valor_hora * horas_trabalhadas\n",
    "ir = salario_bruto * 0.11\n",
    "inss = salario_bruto * 0.08\n",
    "sindicato = salario_bruto * 0.05\n",
    "salario_liquido = salario_bruto - ir - inss - sindicato\n",
    "\n",
    "print(\"salario_bruto:\", salario_bruto)\n",
    "print(\"ir:\", ir)\n",
    "print(\"inss:\", inss)\n",
    "print(\"sindicato:\", sindicato)\n",
    "print(\"salario_liquido:\", salario_liquido)\n",
    "\n"
   ]
  },
  {
   "cell_type": "code",
   "execution_count": 35,
   "metadata": {},
   "outputs": [
    {
     "name": "stdout",
     "output_type": "stream",
     "text": [
      "quantidade de latas compradas: 3\n",
      "preço total em R$:  240\n"
     ]
    }
   ],
   "source": [
    "# Faça um programa para uma loja de tintas.\n",
    "# O programa deverá pedir o tamanho em metros quadrados da área a ser pintada.\n",
    "# Considere que a cobertura da tinta é de 1 litro para cada 3 metros quadrados e que a tinta é vendida em latas de 18 litros, que custam R$ 80,00.\n",
    "# Informe ao usuário a quantidades de latas de tinta a serem compradas e o preço total.\n",
    "\n",
    "import math\n",
    "\n",
    "tamanho_area = float(input(\"informe o tamanho da área a ser pintada em m²: \"))\n",
    "litros = tamanho_area / 3\n",
    "latas = math.ceil(litros / 18)\n",
    "valor_final = latas * 80\n",
    "print(\"quantidade de latas compradas:\", latas)\n",
    "print(\"preço total em R$: \", valor_final)"
   ]
  },
  {
   "cell_type": "code",
   "execution_count": 57,
   "metadata": {},
   "outputs": [
    {
     "name": "stdout",
     "output_type": "stream",
     "text": [
      "você deverá utilizar apenas 5 lata(s) de 18 litros, com valor total de R$ 560\n",
      "você deverá utilizar apenas 2 galão(ões) de 3,6 litros: com valor total de R$ 50\n",
      "você deverá usar 5 lata(s) de 18 litros, mais 2 galão(ões) de 3.6 litros, no valor total de R$ 450\n"
     ]
    }
   ],
   "source": [
    "# Faça um Programa para uma loja de tintas. O programa deverá pedir o tamanho em metros quadrados da área a ser pintada. \n",
    "# Considere que a cobertura da tinta é de 1 litro para cada 6 metros quadrados e que \n",
    "# a tinta é vendida em latas de 18 litros, que custam R$ 80,00 ou em galões de 3,6 litros, que custam R$ 25,00.\n",
    "\n",
    "        # Informe ao usuário as quantidades de tinta a serem compradas e os respectivos preços em 3 situações:\n",
    "        # comprar apenas latas de 18 litros;\n",
    "        # comprar apenas galões de 3,6 litros;\n",
    "        # misturar latas e galões, de forma que o desperdício de tinta seja menor.\n",
    "# OBS: Acrescente 10% de folga e sempre arredonde os valores para cima, isto é, considere latas cheias.\n",
    "\n",
    "import math\n",
    "\n",
    "tamanho_area = float(input(\"informe o tamanho da área a ser pintada em m²: \"))\n",
    "\n",
    "litros = tamanho_area / 6\n",
    "latas = math.ceil(litros / 18)\n",
    "\n",
    "if latas % 18 !=0:\n",
    "    latas += 1\n",
    "valor_lata = latas * 80\n",
    "\n",
    "\n",
    "galoes = math.ceil(galoes / 3.6)\n",
    "if galoes % 3.6 !=0:\n",
    "    galoes += 1\n",
    "valor_galoes = galoes * 25\n",
    "\n",
    "\n",
    "# Mistura de latas e galões - de forma que o desperdício de tinta seja menor - Acrescente 10% de folga\n",
    "latas = math.floor(litros / 18)\n",
    "valor_de_lata = latas * 80\n",
    "litros_faltantes = litros % 18\n",
    "galoes = math.floor(litros_faltantes / 3.6)\n",
    "valor_com_galoes = galoes * 25\n",
    "valor_total = valor_de_lata + valor_com_galoes\n",
    "\n",
    "print(f'você deverá utilizar apenas {latas} lata(s) de 18 litros, com valor total de R$ {valor_lata}')\n",
    "print(f'você deverá utilizar apenas {galoes} galão(ões) de 3,6 litros: com valor total de R$ {valor_galoes}')\n",
    "print(f'você deverá usar {latas} lata(s) de 18 litros, mais {galoes} galão(ões) de 3.6 litros, no valor total de R$ {valor_total}')"
   ]
  },
  {
   "cell_type": "code",
   "execution_count": 59,
   "metadata": {},
   "outputs": [
    {
     "name": "stdout",
     "output_type": "stream",
     "text": [
      "5\n"
     ]
    }
   ],
   "source": [
    "# Analise o código Python a seguir.\n",
    "# Assinale a opção que indica a saída produzida pela execução desse código.\n",
    "\n",
    "x = [1,2,3,4,5]\n",
    "\n",
    "print (x[-1])\n"
   ]
  },
  {
   "cell_type": "code",
   "execution_count": 61,
   "metadata": {},
   "outputs": [
    {
     "name": "stdout",
     "output_type": "stream",
     "text": [
      "O tempo aproximado de download é de 3 minutos \n"
     ]
    }
   ],
   "source": [
    "# Faça um programa que peça o tamanho de um arquivo para download (em MB) e a velocidade de um link de Internet (em Mbps).\n",
    "# Calcule e informe o tempo aproximado de download do arquivo usando este link (em minutos).\n",
    "\n",
    "tamanho = float(input('informe o tamanho do arquivo para download (MB): '))\n",
    "velocidade = float(input('informe a velocidade da internet utilizada para o download (MBps): '))\n",
    "print('O tempo aproximado de download é de %.0f minutos ' %((tamanho / velocidade) * 60))"
   ]
  },
  {
   "cell_type": "code",
   "execution_count": 64,
   "metadata": {},
   "outputs": [
    {
     "name": "stdout",
     "output_type": "stream",
     "text": [
      "A sua média é 5.0\n",
      "Parabéns, aluno Aprovado!\n"
     ]
    }
   ],
   "source": [
    "# Faça um Programa que peça as 4 notas bimestrais e mostre a média\n",
    "\n",
    "n1 = float(input('informe a nota 1: '))\n",
    "n2 = float(input('informe a nota 2: '))\n",
    "n3 = float(input('informe a nota 3: '))\n",
    "n4 = float(input('informe a nota 4: '))\n",
    "        \n",
    "media = (n1 + n2 + n3 + n4) / 4\n",
    "print(f\"A sua média é {media}\")\n",
    "\n",
    "if media >= 5:\n",
    "    print(\"Parabéns, aluno Aprovado!\")\n",
    "\n",
    "else:\n",
    "    print(\"Aluno Reprovado!\")"
   ]
  },
  {
   "cell_type": "code",
   "execution_count": 67,
   "metadata": {},
   "outputs": [
    {
     "name": "stdout",
     "output_type": "stream",
     "text": [
      "1.0\n"
     ]
    }
   ],
   "source": [
    "print(4.00/(2.0+2.0))"
   ]
  },
  {
   "cell_type": "code",
   "execution_count": 1,
   "metadata": {},
   "outputs": [
    {
     "name": "stdout",
     "output_type": "stream",
     "text": [
      "5\n"
     ]
    }
   ],
   "source": [
    "x = [1,2,3,4,5]\n",
    "\n",
    "print(x[-1])"
   ]
  },
  {
   "cell_type": "code",
   "execution_count": 70,
   "metadata": {},
   "outputs": [
    {
     "name": "stdout",
     "output_type": "stream",
     "text": [
      "sys.version_info(major=3, minor=11, micro=4, releaselevel='final', serial=0)\n",
      "3.11.4 (tags/v3.11.4:d2340ef, Jun  7 2023, 05:45:37) [MSC v.1934 64 bit (AMD64)]\n",
      "Versão do Python\n",
      "sys.version\n"
     ]
    }
   ],
   "source": [
    "import sys\n",
    "\n",
    "print (sys.version_info)\n",
    "print (sys.version)\n",
    "print(\"Versão do Python\")\n",
    "print(\"sys.version\")"
   ]
  },
  {
   "cell_type": "code",
   "execution_count": 73,
   "metadata": {},
   "outputs": [
    {
     "name": "stdout",
     "output_type": "stream",
     "text": [
      "3.11.4 (tags/v3.11.4:d2340ef, Jun  7 2023, 05:45:37) [MSC v.1934 64 bit (AMD64)]\n"
     ]
    }
   ],
   "source": [
    "import sys\n",
    "\n",
    "print (sys.version)"
   ]
  }
 ],
 "metadata": {
  "kernelspec": {
   "display_name": "Python 3",
   "language": "python",
   "name": "python3"
  },
  "language_info": {
   "codemirror_mode": {
    "name": "ipython",
    "version": 3
   },
   "file_extension": ".py",
   "mimetype": "text/x-python",
   "name": "python",
   "nbconvert_exporter": "python",
   "pygments_lexer": "ipython3",
   "version": "3.11.4"
  },
  "orig_nbformat": 4
 },
 "nbformat": 4,
 "nbformat_minor": 2
}
