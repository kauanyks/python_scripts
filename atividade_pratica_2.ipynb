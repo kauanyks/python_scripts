{
 "cells": [
  {
   "cell_type": "code",
   "execution_count": null,
   "metadata": {},
   "outputs": [
    {
     "name": "stdout",
     "output_type": "stream",
     "text": [
      "[2, 14, 20]\n"
     ]
    }
   ],
   "source": [
    "# PERGUNTA 1\n",
    "    # Escrever um programa que leia 3 valores A, B e C, e os escreva em ordem crescente. \n",
    "\n",
    "lista = []\n",
    "\n",
    "A = int(input(f'informe um valor para A: '))\n",
    "B = int(input(f'informe um valor para B: '))\n",
    "C = int(input(f'informe um valor para C: '))\n",
    "\n",
    "lista.append(A)\n",
    "lista.append(B)\n",
    "lista.append(C)\n",
    "\n",
    "lista.sort()\n",
    "\n",
    "print(lista)"
   ]
  },
  {
   "cell_type": "code",
   "execution_count": null,
   "metadata": {},
   "outputs": [
    {
     "name": "stdout",
     "output_type": "stream",
     "text": [
      "o ano 2020 é bissexto\n",
      "data atual: 2020-02-28, dia seguinte: 2020-02-29\n"
     ]
    }
   ],
   "source": [
    "# PERGUNTA 2\n",
    "    # Faça um programa que leia uma data qualquer (dia, mês e ano) e calcule a data do próximo dia.\n",
    "    # Lembre-se que em anos bissextos o mês de fevereiro tem 29 dias.\n",
    "    # (Dica: um ano é bissexto quando for divisível por 4)\n",
    "\n",
    "from datetime import datetime, timedelta\n",
    "\n",
    "data = input('informe a data que você quer analisar (dd/MM/aaaa): ')\n",
    "data = datetime.strptime(data, '%d/%m/%Y').date()\n",
    "\n",
    "if data.year % 4 == 0:\n",
    "    print(f'o ano {data.year} é bissexto')\n",
    "else:\n",
    "     print(f'o ano {data.year} não é bissexto')  \n",
    "\n",
    "# Calculo próximo dia\n",
    "qnt_dias = 1\n",
    "dias = timedelta(days=qnt_dias)\n",
    "data_final = data + dias\n",
    "print(f'data atual: {data}, dia seguinte: {data_final}')"
   ]
  },
  {
   "cell_type": "code",
   "execution_count": null,
   "metadata": {},
   "outputs": [
    {
     "name": "stdout",
     "output_type": "stream",
     "text": [
      "o seu nome é kauany, o seu sexo é masculino, seu estado civil é viuvo.\n"
     ]
    }
   ],
   "source": [
    "# PERGUNTA 3\n",
    "    # Faça um algoritmo que leia o nome, o sexo e o estado civil de uma pessoa.\n",
    "    # Caso sexo seja “F” e estado civil seja “CASADA”, solicitar o tempo de casada (anos).\n",
    "\n",
    "nome = input('informe seu nome: ')\n",
    "sexo = input('informe seu sexo (F/M): ')\n",
    "estado_civil = input('informe seu estado civil (solteiro(a), casado(a), viuvo(a)): ')\n",
    "\n",
    "if sexo == 'F' and estado_civil == 'casada':\n",
    "    tempo_casada = int(input('informe o tempo em que está casada (anos): '))\n",
    "    print(f'o seu nome é {nome}, o seu sexo é feminino, seu estado civil é casada, há {tempo_casada} ano(s).')\n",
    "elif sexo == 'F':\n",
    "    print(f'o seu nome é {nome}, o seu sexo é feminino, seu estado civil é {estado_civil}.')\n",
    "else:\n",
    "    print(f'o seu nome é {nome}, o seu sexo é masculino, seu estado civil é {estado_civil}.')"
   ]
  },
  {
   "cell_type": "code",
   "execution_count": null,
   "metadata": {},
   "outputs": [
    {
     "name": "stdout",
     "output_type": "stream",
     "text": [
      "multiplicação dos valores 6 * 3 = 18.\n"
     ]
    }
   ],
   "source": [
    "# PERGUNTA 4\n",
    "    # Faça um algoritmo que leia dois valores inteiros A e B se os valores forem iguais deverá se somar os dois,\n",
    "    # caso contrário multiplique A por B. Ao final de qualquer um dos cálculos deve-se atribuir o resultado para\n",
    "    # uma variável C e mostrar seu conteúdo na tela. \n",
    "\n",
    "A = int(input('informe um valor para A: '))\n",
    "B = int(input('informe um valor para B: '))\n",
    "\n",
    "if A == B:\n",
    "    C = A + B\n",
    "    print(f'soma dos valores {A} + {B} = {C}.')\n",
    "else:\n",
    "    C = A * B\n",
    "    print(f'multiplicação dos valores {A} * {B} = {C}.')"
   ]
  },
  {
   "cell_type": "code",
   "execution_count": 3,
   "metadata": {},
   "outputs": [
    {
     "name": "stdout",
     "output_type": "stream",
     "text": [
      "o seu resultado é negativo, assim, o seu resultado triplo é: -270.\n"
     ]
    }
   ],
   "source": [
    "# PERGUNTA 5\n",
    "    # Encontrar o dobro de um número caso ele seja positivo e o seu triplo caso seja negativo, imprimindo o resultado. \n",
    "\n",
    "N = int(input('informe um número: '))\n",
    "if N >=0:\n",
    "    print(f'o seu resultado é positivo, assim, o seu resultado dobrado é: {N * 2}.')\n",
    "else:\n",
    "    print(f'o seu resultado é negativo, assim, o seu resultado triplo é: {N * 3}.')\n"
   ]
  },
  {
   "cell_type": "code",
   "execution_count": 12,
   "metadata": {},
   "outputs": [
    {
     "name": "stdout",
     "output_type": "stream",
     "text": [
      "O número 13 é ímpar e o resultado da opeação (13 + 8) é 21.\n"
     ]
    }
   ],
   "source": [
    "# PERGUNTA 6\n",
    "    # Faça um algoritmo que leia uma variável e some 5 caso seja par ou some 8 caso seja ímpar,\n",
    "    # imprimir o resultado desta operação.\n",
    "\n",
    "N = int(input('informe um número: '))\n",
    "if N % 2 == 0:\n",
    "    print(f'O número {N} é par e o resultado da operação ({N} + 5) é {N + 5}.')\n",
    "else:\n",
    "    print(f'O número {N} é ímpar e o resultado da opeação ({N} + 8) é {N + 8}.')"
   ]
  },
  {
   "cell_type": "code",
   "execution_count": 17,
   "metadata": {},
   "outputs": [
    {
     "name": "stdout",
     "output_type": "stream",
     "text": [
      "O seu IMC é 15.72.\n",
      "Você pesa 47.6kg, medindo 1.74! VOCÊ ESTÁ ABAIXO DO PESO!\n"
     ]
    }
   ],
   "source": [
    "# PERGUNTA 7\n",
    "    # O IMC – Indice de Massa Corporal é um critério da Organização Mundial de Saúde para dar uma indicação\n",
    "    # sobre a condição de peso de uma pessoa adulta.\n",
    "    # A fórmula é IMC = peso / ( altura )2\n",
    "\n",
    "# Elabore um algoritmo que leia o peso e a altura de um adulto e mostre sua condição de acordo com a tabela abaixo.\n",
    "        # IMC em adultos Condição Abaixo:\n",
    "            # de 18,5 Abaixo do peso\n",
    "            # Entre 18,5 e 25 Peso normal\n",
    "            # Entre 25 e 30 acima do peso\n",
    "            # Acima de 30 obeso\n",
    "\n",
    "peso = float(input('informe seu peso (kg): '))\n",
    "altura = float(input('informe sua altura (m): '))\n",
    "imc = round((peso / altura ** 2), 2)\n",
    "print(f'O seu IMC é {imc}.')\n",
    "      \n",
    "if (imc <= 18.5):\n",
    "    print(f'Você pesa {peso}kg, medindo {altura}! VOCÊ ESTÁ ABAIXO DO PESO!')\n",
    "elif (imc > 18.5 and imc <= 25):\n",
    "    print(f'Você pesa {peso}kg, medindo {altura}! VOCÊ ESTÁ COM O PESO NORMAL!')\n",
    "elif (imc > 25 and imc <= 30):\n",
    "    print(f'Você pesa {peso}kg, medindo {altura}! VOCÊ ESTÁ ACIMA DO PESO!')\n",
    "else:\n",
    "    print(f'Você pesa {peso}kg, medindo {altura}! VOCÊ É CONSIDERADO OBESO!')"
   ]
  },
  {
   "cell_type": "code",
   "execution_count": 21,
   "metadata": {},
   "outputs": [
    {
     "name": "stdout",
     "output_type": "stream",
     "text": [
      "o valor da sua compra é: R$ 500.0\n",
      " FORMAS DE PAGAMENTO\n",
      "[1] À vista dinheiro/cheque (10% de desconto)\n",
      "[2] À vista cartão de crédito (15% de desconto)\n",
      "[3] 2x cartão/cheque (preço normal - SEM JUROS)\n",
      "[4] 3x ou mais (preço normal - COM JUROS)\n",
      "sua compra será parcelada em 2x de R$ 275.0 (JUROS DE 10%!)\n",
      "Sua compra de R$ 500.0 vai custar R$ 550.0 no final.\n"
     ]
    }
   ],
   "source": [
    "# PERGUNTA 8\n",
    "    # Elabore um algoritmo que calcule o que deve ser pago por um produto, considerando o preço normal de \n",
    "    # etiqueta e a escolha da condição de pagamento. \n",
    "   \n",
    " # Utilize os códigos da tabela a seguir para ler qual a condição de pagamento escolhida e efetuar o cálculo adequado.\n",
    "\n",
    "             # Código Condição de pagamento\n",
    "    # À vista em dinheiro ou cheque, recebe 10% de desconto\n",
    "    # À vista no cartão de crédito, recebe 15% de desconto\n",
    "    # Em duas vezes, preço normal de etiqueta sem juros\n",
    "    # Em duas vezes, preço normal de etiqueta mais juros de 10%\n",
    "\n",
    "valor = float(input('informe o preço da compra realizada: '))\n",
    "print(f'o valor da sua compra é: R$ {valor}')\n",
    "print(''' FORMAS DE PAGAMENTO\n",
    "[1] À vista dinheiro/cheque (10% de desconto)\n",
    "[2] À vista cartão de crédito (15% de desconto)\n",
    "[3] 2x cartão/cheque (preço normal - SEM JUROS)\n",
    "[4] 3x ou mais (preço normal - COM JUROS)''')\n",
    "optativa = int(input('informe a opção escolhida: .'))\n",
    "\n",
    "if optativa == 1:\n",
    "    total = round(valor - (valor * 10/ 100))\n",
    "    print(f'sua compra foi realizada na modalidade à vista, com valor total de R$ {total} reais (10% DE DESCONTO).')\n",
    "elif optativa == 2:\n",
    "    total = valor - (valor * 15 /100)\n",
    "    print(f'sua compra foi realizada na modalidade à vista no cartão de crédito, com valor total de R$ {total} reais (15% DE DESCONTO).')\n",
    "elif optativa == 3:\n",
    "    total = valor\n",
    "    parcela = total / 2\n",
    "    print(f'sua compra será parcelada em 2x de {parcela} (SEM JUROS).')\n",
    "elif optativa == 4:\n",
    "    total = valor + (valor * 10 /100)\n",
    "    total_parcela = int(input('em quantas parcelas deseja fazer?: '))\n",
    "    parcela = round((total / total_parcela), 2)\n",
    "    print(f'sua compra será parcelada em {total_parcela}x de R$ {parcela} (JUROS DE 10%!)')\n",
    "else:\n",
    "    total = 0\n",
    "    print('OPÇÃO INVÁLIDA DE PAGAMENTO. TENTE NOVAMENTE!')\n",
    "\n",
    "print(f'Sua compra de R$ {valor} vai custar R$ {total} no final.')"
   ]
  },
  {
   "cell_type": "code",
   "execution_count": null,
   "metadata": {},
   "outputs": [],
   "source": [
    "# PERGUNTA 9\n",
    "\n",
    "''' \n",
    "Operadores lógicos são usados para concatenar ou associar expressões que estabelecem uma relação de comparação entre valores.\n",
    "        O resultado destas expressões é sempre um valor lógico, verdadeiro ou falso, uma vez que operam sobre valores booleanos.\n",
    "        No uso do operador .e. em um algoritmo temos os seguintes resultados:\n",
    "                                        I. V .e. V - o resultado é verdadeiro.\n",
    "                                        II. F .e. V - o resultado é verdadeiro.\n",
    "                                        III. V .e. F - o resultado é verdadeiro.\n",
    "                                        IV. F .e. V - o resultado é falso.\n",
    "                                        V. F .e. F - o resultado é verdadeiro.\n",
    "\n",
    "        Assinale a alternativa que contém as afirmativas CORRETAS.\n",
    "\n",
    "        \n",
    "a) I – IV\n",
    "\n",
    "b) II – IV.\n",
    "\n",
    "c) III – IV.\n",
    "\n",
    "c)  I – III.\n",
    "\n",
    "                                                                        RESPOSTA: A\n",
    "'''"
   ]
  },
  {
   "cell_type": "code",
   "execution_count": 10,
   "metadata": {},
   "outputs": [
    {
     "name": "stdout",
     "output_type": "stream",
     "text": [
      " DEFINA A OPERAÇÃO A SER REALIZADA:\n",
      "[101] raiz quadrada\n",
      "[102] metade\n",
      "[103] 10% do número\n",
      "[104] dobro\n",
      "\n",
      "operação selecionada não é válida!\n"
     ]
    }
   ],
   "source": [
    "# PERGUNTA 10\n",
    "\n",
    "    # Faça um programa, utilizando estrutura de condição, que receba um número real, digitado pelo usuário e mostre o menu para selecionar o tipo de cálculo que deve ser realizado com base nos códigos abaixo:\n",
    "            # 101 - Raiz quadrada\n",
    "            # 102 - A metade\n",
    "            # 103 - 10% do número\n",
    "            # 104 - O dobro\n",
    "\n",
    "from math import sqrt\n",
    "\n",
    "valor = int(input('informe um número real: '))\n",
    "print(''' DEFINA A OPERAÇÃO A SER REALIZADA:\n",
    "[101] raiz quadrada\n",
    "[102] metade\n",
    "[103] 10% do número\n",
    "[104] dobro\n",
    "''')\n",
    "operacao = int(input('informe a operação escolhida: '))\n",
    "\n",
    "if operacao == 101:\n",
    "    print(f'o valor escolhido foi {valor}, e o resultado da operação \"raiz quadrada\" é {round(sqrt(valor), 2)}')\n",
    "elif operacao == 102:\n",
    "    print(f'o valor escolhido foi {valor}, e o resultado da operação \"metade\" é {round(valor/2, 2)}')\n",
    "elif operacao == 103:\n",
    "    print(f'o valor escolhido foi {valor}, e o resultado da operação \"10%\" é {round(valor * 10 / 100, 2)}')\n",
    "elif operacao == 104:\n",
    "    print(f'o valor escolhido foi {valor}, e o resultado da operação \"dobro\" é {round(valor * 2, 2)}')\n",
    "else:\n",
    "    print('operação selecionada não é válida!')"
   ]
  },
  {
   "cell_type": "code",
   "execution_count": 26,
   "metadata": {},
   "outputs": [
    {
     "name": "stdout",
     "output_type": "stream",
     "text": [
      "camisa\n"
     ]
    }
   ],
   "source": [
    "# ATIVIDADE 01\n",
    "\n",
    "# OBSERVE O CÓDIGO EM PYTHON A SEGUIR.\n",
    "\n",
    "def empty(s):\n",
    "    if len(s) == 0:\n",
    "        return True\n",
    "    else:\n",
    "        return False\n",
    "\n",
    "# FALTA A IMPLEMENTAÇÃO DESTA FUNÇÃO - TESTAR AQUI -\n",
    "def pop(s):\n",
    "    return s.pop()\n",
    "\n",
    "stack = ['calça', 'meias', 'paletó', 'gravata', 'camisa']\n",
    "if not empty(stack):\n",
    "    print(pop(stack))\n",
    "else:\n",
    "    print('pilha vazia')\n",
    "\n",
    "    \n",
    "# QUAL VERSÃO DA FUNÇÃO POP(S) FARÁ COM QUE O PROGRAMA ACIMA IMPRIMA CAMISA?\n",
    "\n",
    "# [X] def pop(s): return s.pop()\n",
    "# [] def pop(s): temp=s[0] s.remoe(s[0]) return temp\n",
    "# [] def pop(s): return s.pop(-1)\n",
    "# [] def pop(s): temp=s[0] s=s[1] return temp\n",
    "\n",
    "            # FOI USADO COMO RESPOSTA A PRIMEIRA OPÇÃO, CONTUDO, A TERCEIRA OPÇÃO TAMBÉM IMPRIME 'CAMISA'"
   ]
  },
  {
   "cell_type": "code",
   "execution_count": 18,
   "metadata": {},
   "outputs": [
    {
     "name": "stdout",
     "output_type": "stream",
     "text": [
      "[5, 4, 3, 2, 1]\n"
     ]
    }
   ],
   "source": [
    "# ATIVIDADE 02\n",
    "\n",
    "# Analise o código Python a seguir.\n",
    "x = [1,2,3,4,5]\n",
    "print(x[::-1])\n",
    "\n",
    "        # Assinale a opção que indica a saída produzida pela execução desse código.\n",
    "                                    # [] [1,2,3,4,5]\n",
    "                                    # [] [5,1]\n",
    "                                    # [] 5\n",
    "                                    # [X] [5,4,3,2,1]"
   ]
  },
  {
   "cell_type": "code",
   "execution_count": 22,
   "metadata": {},
   "outputs": [
    {
     "name": "stdout",
     "output_type": "stream",
     "text": [
      "[20, 1, 4, 9, 16, 25, 36, 49, 64, 81]\n"
     ]
    }
   ],
   "source": [
    "# ATIVIDADE 03\n",
    "\n",
    "# considere o código python a seguir.\n",
    "\n",
    "def ABC(L, n):\n",
    "    while True:\n",
    "        if len(L) >= n:\n",
    "            return L\n",
    "        else:\n",
    "            L.append(len(L) ** 2)\n",
    "print (ABC([20],10))\n",
    "\n",
    "            # Assinale a opção que indica a saída produzida pela execução desse código.\n",
    "                        # [] [1, 4, 9, 16, 25, 36, 49, 64]\n",
    "                        # [] [1, 4, 9, 16, 25, 36, 49, 64, 81]\n",
    "                        # [] [20, 1, 4, 9, 16, 25, 36, 49, 64]\n",
    "                        # [X] [20, 1, 4, 9, 16, 25, 36, 49, 64, 81]"
   ]
  },
  {
   "cell_type": "code",
   "execution_count": 24,
   "metadata": {},
   "outputs": [
    {
     "name": "stdout",
     "output_type": "stream",
     "text": [
      "True\n"
     ]
    }
   ],
   "source": [
    "# ATIVIDADE 04\n",
    "\n",
    "# Com relação a conceitos de programação Python , julgue o item que se segue.\n",
    "\n",
    "x = bool(-3)\n",
    "y = bool(\"True\"*x)\n",
    "z = bool(\"False\")\n",
    "\n",
    "print (x and y and z)\n",
    "\n",
    "                 # Assinale a opção que indica a saída produzida pela execução desse código.\n",
    "                        # [] Erro\n",
    "                        # [] False\n",
    "                        # [X] True\n",
    "                        # [] -3\n"
   ]
  },
  {
   "cell_type": "code",
   "execution_count": 25,
   "metadata": {},
   "outputs": [
    {
     "name": "stdout",
     "output_type": "stream",
     "text": [
      "3 3 5\n"
     ]
    }
   ],
   "source": [
    "# ATIVIDADE 05\n",
    "\n",
    "# Observe o código em Python a seguir.\n",
    "\n",
    "seq = 'AUUCCUUCTGG'\n",
    "seq = seq.replace('A','G')\n",
    "seq = seq.replace('U','T')\n",
    "\n",
    "G = seq.count('G')\n",
    "C = seq.count('C')\n",
    "T = seq.count('T')\n",
    "print (G, C, T)\n",
    "\n",
    "                # Após a execução do código, o resultado impresso na tela será:\n",
    "                        # [] G, C, T3\n",
    "                        # [] 3, 3, 5\n",
    "                        # [] G C T\n",
    "                        # [x] 3 3 5"
   ]
  }
 ],
 "metadata": {
  "kernelspec": {
   "display_name": "Python 3",
   "language": "python",
   "name": "python3"
  },
  "language_info": {
   "codemirror_mode": {
    "name": "ipython",
    "version": 3
   },
   "file_extension": ".py",
   "mimetype": "text/x-python",
   "name": "python",
   "nbconvert_exporter": "python",
   "pygments_lexer": "ipython3",
   "version": "3.11.4"
  },
  "orig_nbformat": 4
 },
 "nbformat": 4,
 "nbformat_minor": 2
}
